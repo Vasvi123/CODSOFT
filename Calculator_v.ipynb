{
  "nbformat": 4,
  "nbformat_minor": 0,
  "metadata": {
    "colab": {
      "provenance": [],
      "authorship_tag": "ABX9TyNsKwrdzd7ZxE7ljZtanZn/",
      "include_colab_link": true
    },
    "kernelspec": {
      "name": "python3",
      "display_name": "Python 3"
    },
    "language_info": {
      "name": "python"
    }
  },
  "cells": [
    {
      "cell_type": "markdown",
      "metadata": {
        "id": "view-in-github",
        "colab_type": "text"
      },
      "source": [
        "<a href=\"https://colab.research.google.com/github/Vasvi123/CODSOFT/blob/main/Calculator_v.ipynb\" target=\"_parent\"><img src=\"https://colab.research.google.com/assets/colab-badge.svg\" alt=\"Open In Colab\"/></a>"
      ]
    },
    {
      "cell_type": "code",
      "execution_count": 2,
      "metadata": {
        "id": "u4f3SAGfMad0",
        "colab": {
          "base_uri": "https://localhost:8080/"
        },
        "outputId": "78e739c8-84cd-4c52-bd04-483278597852"
      },
      "outputs": [
        {
          "output_type": "stream",
          "name": "stdout",
          "text": [
            "**SIMPLE CALCULAOTR USING PYTHON**\n",
            "1.Add the two numbers:\n",
            "2.Subtract the two numbers:\n",
            "3.Multiply the two numbers:\n",
            "4.Divide the two numbers:\n",
            "Enter a number:1\n",
            "Enter another number:2\n",
            "Enter your choice(1,2,3,4) to perform operations:1\n",
            "1 + 2 = 3\n"
          ]
        }
      ],
      "source": [
        "def add(a,b):\n",
        "    return a+b\n",
        "def diff(a,b):\n",
        "    return a-b\n",
        "def product(a,b):\n",
        "    return a*b\n",
        "def division(a,b):\n",
        "    return a/b\n",
        "print(\"**SIMPLE CALCULAOTR USING PYTHON**\")\n",
        "print(\"1.Add the two numbers:\")\n",
        "print(\"2.Subtract the two numbers:\")\n",
        "print(\"3.Multiply the two numbers:\")\n",
        "print(\"4.Divide the two numbers:\")\n",
        "n=int(input(\"Enter a number:\"))\n",
        "m=int(input(\"Enter another number:\"))\n",
        "ch=int(input(\"Enter your choice(1,2,3,4) to perform operations:\"))\n",
        "if ch==1:\n",
        "    print(n,\"+\",m,\"=\",add(n,m));\n",
        "elif ch==2:\n",
        "    print(n,\"-\",m,\"=\",diff(n,m));\n",
        "elif ch==3:\n",
        "    print(n,\"x\",m,\"=\",product(n,m));\n",
        "elif ch==4:\n",
        "    if m==0:\n",
        "       print(\"Division is not possible\")\n",
        "    else:\n",
        "       print(n,\"/\",m,\"=\",division(n,m))\n",
        "else:\n",
        "    print(\"Operation not possible\")\n"
      ]
    }
  ]
}