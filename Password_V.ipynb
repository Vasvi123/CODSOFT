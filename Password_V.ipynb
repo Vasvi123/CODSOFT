{
  "nbformat": 4,
  "nbformat_minor": 0,
  "metadata": {
    "colab": {
      "provenance": [],
      "authorship_tag": "ABX9TyO3q4qVcK8MveE4aA6MDOUd",
      "include_colab_link": true
    },
    "kernelspec": {
      "name": "python3",
      "display_name": "Python 3"
    },
    "language_info": {
      "name": "python"
    }
  },
  "cells": [
    {
      "cell_type": "markdown",
      "metadata": {
        "id": "view-in-github",
        "colab_type": "text"
      },
      "source": [
        "<a href=\"https://colab.research.google.com/github/Vasvi123/CODSOFT/blob/main/Password_V.ipynb\" target=\"_parent\"><img src=\"https://colab.research.google.com/assets/colab-badge.svg\" alt=\"Open In Colab\"/></a>"
      ]
    },
    {
      "cell_type": "code",
      "execution_count": null,
      "metadata": {
        "id": "c7TkFH5nNKCN"
      },
      "outputs": [],
      "source": [
        "import random\n",
        "l=int(input(\"Enter the desired length of the password:\"))\n",
        "lower=\"abcdefghijklmnopqrstuvwxyz\"\n",
        "upper=\"ABCDEFGHIJKLMNOPQRSTUVWXYZ\"\n",
        "numbers=\"0123456789\"\n",
        "symbols=\"~!@#$%^&*().\"\n",
        "string=lower+upper+numbers+symbols\n",
        "password=\"\".join(random.sample(string,l))\n",
        "print(\"Your new password is:\",password)\n",
        "\n"
      ]
    }
  ]
}